{
 "cells": [
  {
   "cell_type": "markdown",
   "metadata": {},
   "source": [
    "### Import Libraries"
   ]
  },
  {
   "cell_type": "code",
   "execution_count": 3,
   "metadata": {},
   "outputs": [],
   "source": [
    "import glob\n",
    "import cv2 as cv2\n",
    "import numpy as np\n",
    "import matplotlib.pyplot as plt\n",
    "import random\n",
    "from skimage.feature import hog "
   ]
  },
  {
   "cell_type": "markdown",
   "metadata": {},
   "source": [
    "#### Analyzing Vehicle data"
   ]
  },
  {
   "cell_type": "markdown",
   "metadata": {},
   "source": [
    "#### Analyzing YCrCb color space Histogram on Vehicle data"
   ]
  },
  {
   "cell_type": "markdown",
   "metadata": {},
   "source": [
    "#### Analyzing YCrCb color space Histogram on Non Vehicle data"
   ]
  },
  {
   "cell_type": "code",
   "execution_count": 4,
   "metadata": {},
   "outputs": [],
   "source": [
    "from skimage.feature import hog\n",
    "def get_hog_features(img, orient, pix_per_cell, cell_per_block, \n",
    "                        vis=False, feature_vec=True):\n",
    "    # Call with two outputs if vis==True\n",
    "    if vis == True:\n",
    "        features, hog_image = hog(img, orientations=orient, pixels_per_cell=(pix_per_cell, pix_per_cell),\n",
    "                                  cells_per_block=(cell_per_block, cell_per_block),transform_sqrt=False, \n",
    "                                  visualize=vis, feature_vector=feature_vec)\n",
    "        return features, hog_image\n",
    "    # Otherwise call with one output\n",
    "    else:      \n",
    "        features = hog(img, orientations=orient, pixels_per_cell=(pix_per_cell, pix_per_cell),\n",
    "                       cells_per_block=(cell_per_block, cell_per_block),transform_sqrt=False, \n",
    "                       visualize=vis, feature_vector=feature_vec)\n",
    "        return features"
   ]
  },
  {
   "cell_type": "code",
   "execution_count": 5,
   "metadata": {},
   "outputs": [
    {
     "data": {
      "text/plain": [
       "<matplotlib.image.AxesImage at 0x2747afcd550>"
      ]
     },
     "execution_count": 5,
     "metadata": {},
     "output_type": "execute_result"
    },
    {
     "data": {
      "image/png": "[encoded data removed]",
      "text/plain": [
       "<Figure size 432x288 with 1 Axes>"
      ]
     },
     "metadata": {
      "needs_background": "light"
     },
     "output_type": "display_data"
    }
   ],
   "source": [
    "image = cv2.imread('./Data/vehicles/GTI_Far/image0005.png')\n",
    "feature_image = cv2.cvtColor(image, cv2.COLOR_RGB2YCrCb)\n",
    "x,y = get_hog_features(feature_image[:,:,0], 11, \n",
    "                        16, 2, vis=True, feature_vec=True)\n",
    "plt.imshow(y, cmap='gray')"
   ]
  },
  {
   "cell_type": "code",
   "execution_count": 6,
   "metadata": {},
   "outputs": [],
   "source": [
    "def image_features(img, color_space='RGB', size=(32, 32)):\n",
    "            \n",
    "    features = cv2.resize(img, size).ravel() \n",
    "    # Return the feature vector\n",
    "    return features\n",
    "\n",
    "def color_hist(img, nbins=32, bins_range=(0, 256)):\n",
    "    # Compute the histogram of the color channels separately\n",
    "    channel1_hist = np.histogram(img[:,:,0], bins=nbins, range=bins_range)\n",
    "    channel2_hist = np.histogram(img[:,:,1], bins=nbins, range=bins_range)\n",
    "    channel3_hist = np.histogram(img[:,:,2], bins=nbins, range=bins_range)\n",
    "    hist_features = np.concatenate((channel1_hist[0], channel2_hist[0], channel3_hist[0]))\n",
    "    return hist_features\n",
    "\n",
    "def extract_features(imgs, color_space='RGB', spatial_size=(32, 32),\n",
    "                        hist_bins=32, hist_range=(0, 256),\n",
    "                        orient=9,pix_per_cell=8, cell_per_block=2, hog_channel=0,\n",
    "                        spatial_feat=True, hist_feat=True, hog_feat=True, class_type='S'\n",
    "                    ):\n",
    "    # Create a list to append feature vectors to\n",
    "    features = []\n",
    "    \n",
    "    for img in imgs:\n",
    "        image_orig= cv2.imread(img)\n",
    "        images=[image_orig]\n",
    "        image_flipped= cv2.flip(image_orig,1)\n",
    "        images.append(image_flipped)\n",
    "#         if class_type=='C': \n",
    "#             images.append(cv2.resize(image_orig,(72,72))[0:64,0:64])\n",
    "#             images.append(cv2.resize(image_flipped,(72,72))[0:64,0:64])\n",
    "            \n",
    "        for image in images:\n",
    "            feature_image=None\n",
    "            if color_space != 'RGB':\n",
    "                if color_space == 'HSV':\n",
    "                    feature_image = cv2.cvtColor(image, cv2.COLOR_RGB2HSV)\n",
    "                elif color_space == 'LUV':\n",
    "                    feature_image = cv2.cvtColor(image, cv2.COLOR_RGB2LUV)\n",
    "                elif color_space == 'HLS':\n",
    "                    feature_image = cv2.cvtColor(image, cv2.COLOR_RGB2HLS)\n",
    "                elif color_space == 'YUV':\n",
    "                    feature_image = cv2.cvtColor(image, cv2.COLOR_RGB2YUV)\n",
    "                elif color_space == 'YCrCb':\n",
    "                    feature_image = cv2.cvtColor(image, cv2.COLOR_RGB2YCrCb)\n",
    "            else: feature_image = np.copy(image) \n",
    "            image_feature=[]\n",
    "            if spatial_feat==True:\n",
    "                image_feature= image_features(feature_image, color_space, spatial_size) \n",
    "\n",
    "            histogram_features=[]\n",
    "            if hist_feat==True:\n",
    "                histogram_features= color_hist(feature_image, hist_bins, hist_range)\n",
    "\n",
    "            if hog_channel == 'ALL':\n",
    "                hog_features = []\n",
    "                for channel in range(feature_image.shape[2]):\n",
    "                    hog_features.append(get_hog_features(feature_image[:,:,channel], \n",
    "                                        orient, pix_per_cell, cell_per_block, \n",
    "                                        vis=False, feature_vec=True))\n",
    "                hog_features = np.ravel(hog_features)        \n",
    "            else:\n",
    "                hog_features = get_hog_features(feature_image[:,:,hog_channel], orient, \n",
    "                            pix_per_cell, cell_per_block, vis=False, feature_vec=True)\n",
    "            # Append the new feature vector to the features list\n",
    "    #         print(hog_features[0])\n",
    "    #         features.append(hog_features)\n",
    "            features.append(np.concatenate((image_feature, histogram_features,hog_features)))\n",
    "\n",
    "       \n",
    "    return features"
   ]
  },
  {
   "cell_type": "markdown",
   "metadata": {},
   "source": [
    "#### Loading Data- Vehicle and non vehicle Images"
   ]
  },
  {
   "cell_type": "code",
   "execution_count": 7,
   "metadata": {},
   "outputs": [
    {
     "name": "stdout",
     "output_type": "stream",
     "text": [
      "8792 8968\n"
     ]
    }
   ],
   "source": [
    "non_vehicles_paths= glob.glob('./Data/non-vehicles/Extras/*.png')\n",
    "non_vehicles_paths2= glob.glob('./Data/non-vehicles/GTI/*.png')\n",
    "# moved= glob.glob('./vehicles/moved/*.png')\n",
    "vehicles_far= glob.glob('./Data/vehicles/GTI_Far/*.png')\n",
    "vehicles_left= glob.glob('./Data/vehicles/GTI_Left/*.png')\n",
    "vehicles_middleclose= glob.glob('./Data/vehicles/GTI_MiddleClose/*.png')\n",
    "vehicles_right= glob.glob('./Data/vehicles/GTI_Right/*.png')\n",
    "vehicles_KITTI_extracted= glob.glob('./Data/vehicles/KITTI_extracted/*.png')\n",
    "vehicle_folders=[vehicles_far,vehicles_left,vehicles_middleclose,vehicles_right,vehicles_KITTI_extracted]\n",
    "non_vehicle_folders=[non_vehicles_paths,non_vehicles_paths2]\n",
    "vehicles=[]\n",
    "non_vehicles=[]\n",
    "\n",
    "for vehicle_folder in vehicle_folders:\n",
    "    i=0\n",
    "    for vehicle_path in vehicle_folder:\n",
    "#         if i%2==0:\n",
    "       vehicles.append(vehicle_path)\n",
    "#         i+=1    \n",
    "for non_vehicle_folder in non_vehicle_folders:\n",
    "    i=0\n",
    "    for non_vehicle in non_vehicle_folder:\n",
    "#         if i%2==0:\n",
    "        non_vehicles.append(non_vehicle)\n",
    "#         i+=1\n",
    "\n",
    "print(len(vehicles), len(non_vehicles))\n"
   ]
  },
  {
   "cell_type": "code",
   "execution_count": 8,
   "metadata": {},
   "outputs": [
    {
     "name": "stdout",
     "output_type": "stream",
     "text": [
      "17760\n"
     ]
    }
   ],
   "source": [
    "cars = []\n",
    "notcars = []\n",
    "cars=vehicles\n",
    "notcars=non_vehicles\n",
    "print(len(notcars)+len(cars))"
   ]
  },
  {
   "cell_type": "markdown",
   "metadata": {},
   "source": [
    "#### Function to generate Windows"
   ]
  },
  {
   "cell_type": "code",
   "execution_count": 32,
   "metadata": {},
   "outputs": [],
   "source": [
    "def slide_window(img, x_start_stop=[None, None], y_start_stop=[None, None], \n",
    "                    xy_window=(64, 64), xy_overlap=(0.5, 0.5), offset=0):\n",
    "    # If x and/or y start/stop positions not defined, set to image size\n",
    "    if x_start_stop[0] == None:\n",
    "        x_start_stop[0] = 0\n",
    "    if x_start_stop[1] == None:\n",
    "        x_start_stop[1] = img.shape[1]\n",
    "    if y_start_stop[0] == None:\n",
    "        y_start_stop[0] = (img.shape[0]//2)+offset #(img.shape[0]*2//3)+20\n",
    "#         print((img.shape[0]//2)-100)\n",
    "    if y_start_stop[1] == None:\n",
    "        y_start_stop[1] = img.shape[0]\n",
    "\n",
    "    window_list = []\n",
    "\n",
    "    \n",
    "    scales=[1,1.5,2]\n",
    "    ystart=y_start_stop[0]\n",
    "    for scale in scales:\n",
    "        over_x= xy_overlap[0]\n",
    "        over_y= xy_overlap[1]\n",
    "        width= xy_window[0]*scale\n",
    "        height= xy_window[1]*scale\n",
    "        c= y_start_stop[0]\n",
    "        \n",
    "        for row in range(2):\n",
    "            col=0\n",
    "            endx=0\n",
    "            image_width= img.shape[1]\n",
    "            \n",
    "            while(endx<image_width):\n",
    "                \n",
    "                startx = x_start_stop[0]+ col*width*(1-over_x)\n",
    "                endx = startx + width\n",
    "                starty = ystart+ row*height*(1-over_y)\n",
    "                endy = starty + height\n",
    "                if(endx-startx==endy-starty and endx-startx!=0):\n",
    "#                     print(endx-startx, endy-starty)\n",
    "                    window_list.append(((int(startx), int(starty)), (int(endx), int(endy)), width/64.0))\n",
    "                col+=1\n",
    "#         y_start_stop[0]-=5    \n",
    "    return window_list"
   ]
  },
  {
   "cell_type": "markdown",
   "metadata": {},
   "source": [
    "#### Function to generate features of single image"
   ]
  },
  {
   "cell_type": "code",
   "execution_count": 10,
   "metadata": {},
   "outputs": [],
   "source": [
    "def single_img_features(img, color_space='RGB', spatial_size=(32, 32),\n",
    "                        hist_bins=32, orient=9, \n",
    "                        pix_per_cell=8, cell_per_block=2, hog_channel=0,\n",
    "                        spatial_feat=True, hist_feat=True, hog_feat=True):    \n",
    "    #1) Define an empty list to receive features\n",
    "    img_features = []\n",
    "    #2) Apply color conversion if other than 'RGB'\n",
    "    if color_space != 'RGB':\n",
    "        if color_space == 'HSV':\n",
    "            feature_image = cv2.cvtColor(img, cv2.COLOR_RGB2HSV)\n",
    "        elif color_space == 'LUV':\n",
    "            feature_image = cv2.cvtColor(img, cv2.COLOR_RGB2LUV)\n",
    "        elif color_space == 'HLS':\n",
    "            feature_image = cv2.cvtColor(img, cv2.COLOR_RGB2HLS)\n",
    "        elif color_space == 'YUV':\n",
    "            feature_image = cv2.cvtColor(img, cv2.COLOR_RGB2YUV)\n",
    "        elif color_space == 'YCrCb':\n",
    "            feature_image = cv2.cvtColor(img, cv2.COLOR_RGB2YCrCb)\n",
    "    else: feature_image = np.copy(img)      \n",
    "    #3) Compute spatial features if flag is set\n",
    "    if spatial_feat == True:\n",
    "#         print(feature_image)\n",
    "        \n",
    "        spatial_features = image_features(feature_image, size=spatial_size)\n",
    "        #4) Append features to list\n",
    "        img_features.append(spatial_features)\n",
    "    #5) Compute histogram features if flag is set\n",
    "    if hist_feat == True:\n",
    "        \n",
    "        hist_features = color_hist(feature_image, nbins=hist_bins)\n",
    "        #6) Append features to list\n",
    "        img_features.append(hist_features)\n",
    "    #7) Compute HOG features if flag is set\n",
    "    if hog_feat == True:\n",
    "        if hog_channel == 'ALL':\n",
    "            hog_features = []\n",
    "            for channel in range(feature_image.shape[2]):\n",
    "                hog_features.extend(get_hog_features(feature_image[:,:,channel], \n",
    "                                    orient, pix_per_cell, cell_per_block, \n",
    "                                    vis=False, feature_vec=True))      \n",
    "        else:\n",
    "            hog_features = get_hog_features(feature_image[:,:,hog_channel], orient, \n",
    "                        pix_per_cell, cell_per_block, vis=False, feature_vec=True)\n",
    "        #8) Append features to list\n",
    "       \n",
    "        img_features.append(hog_features)\n",
    "\n",
    "    #9) Return concatenated array of features\n",
    "    return np.concatenate(img_features)\n"
   ]
  },
  {
   "cell_type": "markdown",
   "metadata": {},
   "source": [
    "#### Searching each window for vehicle features"
   ]
  },
  {
   "cell_type": "code",
   "execution_count": 62,
   "metadata": {},
   "outputs": [],
   "source": [
    "def search_windows(img, windows, clf, scaler, color_space='RGB', \n",
    "                    spatial_size=(32, 32), hist_bins=32, \n",
    "                    hist_range=(0, 256), orient=9, \n",
    "                    pix_per_cell=8, cell_per_block=2, \n",
    "                    hog_channel=0, spatial_feat=True, \n",
    "                    hist_feat=True, hog_feat=True):\n",
    "\n",
    "    #1) Create an empty list to receive positive detection windows\n",
    "    on_windows = []\n",
    "    #2) Iterate over all windows in the list\n",
    "    last_ratio=0\n",
    "    i=0\n",
    "    imageCopy= np.copy(img)\n",
    "    for window in windows:\n",
    "#         print(window)\n",
    "        if(last_ratio!= window[2]):\n",
    "            last_ratio=window[2]\n",
    "#             plt.imshow(imageCopy)\n",
    "#             print((img.shape[0]//last_ratio, img.shape[1]//last_ratio))\n",
    "            imageCopy= cv2.resize(img, (int(img.shape[1]/last_ratio), int(img.shape[0]/last_ratio))) \n",
    "        #3) Extract the test window from original image\n",
    "#         print(window[2])\n",
    "#         test_img = cv2.resize(img[window[0][1]:window[1][1], window[0][0]:window[1][0]], (64, 64))\n",
    "#         print(img.shape)\n",
    "        test_img = imageCopy[int(window[0][1]/last_ratio):int(window[1][1]/last_ratio), int(window[0][0]/last_ratio):int(window[1][0]/last_ratio)]\n",
    "        if test_img.shape[0]==test_img.shape[1] and test_img.shape[0]!=0:\n",
    "            \n",
    "#             plt.imshow(test_img)\n",
    "#             if i==2:\n",
    "#                 break\n",
    "#             i+=1\n",
    "#             print(test_img.shape, last_ratio)\n",
    "        #4) Extract features for that window using single_img_features()\n",
    "            features = single_img_features(test_img, color_space=color_space, \n",
    "                                spatial_size=spatial_size, hist_bins=hist_bins, \n",
    "                                orient=orient, pix_per_cell=pix_per_cell, \n",
    "                                cell_per_block=cell_per_block, \n",
    "                                hog_channel=hog_channel, spatial_feat=spatial_feat, \n",
    "                                hist_feat=hist_feat, hog_feat=hog_feat)\n",
    "            #5) Scale extracted features to be fed to classifier\n",
    "    #         print(features)\n",
    "            test_features = scaler.transform(np.array(features).reshape(1, -1))\n",
    "    #         print(test_features)\n",
    "            #6) Predict using your classifier\n",
    "            prediction = clf.predict (test_features)\n",
    "\n",
    "    #         #7) If positive (prediction == 1) then save the window\n",
    "        #     if prediction == 1:\n",
    "        #         window1=(window[0],window[1],prediction)\n",
    "        #         on_windows.append(window1)\n",
    "\n",
    "            prob = clf.decision_function(test_features)\n",
    "            window1=(window[0],window[1],prob)\n",
    "            if(prob>0.2):\n",
    "                on_windows.append(window1)\n",
    "    #8) Return windows for positive detections\n",
    "    return on_windows"
   ]
  },
  {
   "cell_type": "markdown",
   "metadata": {},
   "source": [
    "#### drawing boxes over predicted windows"
   ]
  },
  {
   "cell_type": "code",
   "execution_count": 12,
   "metadata": {},
   "outputs": [],
   "source": [
    "def draw_boxes(img, bboxes, color=(0, 0, 255), thick=6):\n",
    "    # Make a copy of the image\n",
    "    imcopy = np.copy(img)\n",
    "    # Iterate through the bounding boxes\n",
    "    for bbox in bboxes:\n",
    "#         print(bbox[2])\n",
    "        # Draw a rectangle given bbox coordinates\n",
    "        cv2.rectangle(imcopy, bbox[0], bbox[1], color, thick)\n",
    "        point=(bbox[0][0],bbox[0][1]-20)\n",
    "        text= str(bbox[2])\n",
    "        cv2.putText(imcopy,text,point, cv2.FONT_HERSHEY_SIMPLEX, 0.4,(255,0,0),1,cv2.LINE_AA)\n",
    "    # Return the image copy with boxes drawn\n",
    "    return imcopy"
   ]
  },
  {
   "cell_type": "markdown",
   "metadata": {},
   "source": [
    "#### Setting Hyper parameters and extracting car and non car features"
   ]
  },
  {
   "cell_type": "code",
   "execution_count": 13,
   "metadata": {},
   "outputs": [
    {
     "name": "stdout",
     "output_type": "stream",
     "text": [
      "17760\n",
      "extraction started\n",
      "extraction ended\n",
      "Wall time: 5min 55s\n"
     ]
    }
   ],
   "source": [
    "%%time\n",
    "\n",
    "\n",
    "sample_size = 500\n",
    "# cars = cars[0:sample_size]\n",
    "# notcars = notcars[0:sample_size]\n",
    "\n",
    "print(len(notcars)+len(cars))\n",
    "### TODO: Tweak these parameters and see how the results change.\n",
    "color_space = 'YCrCb' # Can be RGB, HSV, LUV, HLS, YUV, YCrCb\n",
    "orient = 12  # HOG orientations\n",
    "pix_per_cell = 16 # HOG pixels per cell\n",
    "cell_per_block = 2 # HOG cells per block\n",
    "hog_channel = 'ALL' # Can be 0, 1, 2, or \"ALL\"\n",
    "spatial_size = (16, 16) # Spatial binning dimensions\n",
    "hist_bins = 32    # Number of histogram bins\n",
    "spatial_feat = True # Spatial features on or off\n",
    "hist_feat = True # Histogram features on or off\n",
    "hog_feat = True # HOG features on or off\n",
    "y_start_stop = [None, None] # Min and max in y to search in slide_window()\n",
    "\n",
    "print('extraction started') \n",
    "car_features = extract_features(cars, color_space=color_space, \n",
    "                        spatial_size=spatial_size, hist_bins=hist_bins, \n",
    "                        orient=orient, pix_per_cell=pix_per_cell, \n",
    "                        cell_per_block=cell_per_block, \n",
    "                        hog_channel=hog_channel, spatial_feat=spatial_feat, \n",
    "                        hist_feat=hist_feat, hog_feat=hog_feat, class_type='C'\n",
    "                               )\n",
    "\n",
    "\n",
    "notcar_features = extract_features(notcars, color_space=color_space, \n",
    "                        spatial_size=spatial_size, hist_bins=hist_bins, \n",
    "                        orient=orient, pix_per_cell=pix_per_cell, \n",
    "                        cell_per_block=cell_per_block, \n",
    "                        hog_channel=hog_channel, spatial_feat=spatial_feat, \n",
    "                        hist_feat=hist_feat, hog_feat=hog_feat, class_type='N'\n",
    "                                  )\n",
    "\n",
    "print('extraction ended') \n",
    "\n",
    "# print(notcar_features.shape, car_features.shape)\n",
    "# Create an array stack of feature vectors\n",
    "X = np.vstack((car_features, notcar_features)).astype(np.float64)\n",
    "\n",
    "# Define the labels vector\n",
    "y = np.hstack((np.ones(len(car_features)), np.zeros(len(notcar_features))))\n",
    "\n",
    "# Split up data into randomized training and test sets\n",
    "\n",
    "\n",
    "\n"
   ]
  },
  {
   "cell_type": "markdown",
   "metadata": {},
   "source": [
    "#### Normalization"
   ]
  },
  {
   "cell_type": "code",
   "execution_count": 14,
   "metadata": {},
   "outputs": [
    {
     "name": "stdout",
     "output_type": "stream",
     "text": [
      "Using: 12 orientations 16 pixels per cell and 2 cells per block\n",
      "Feature vector length: 2160\n"
     ]
    }
   ],
   "source": [
    "from sklearn.model_selection import train_test_split\n",
    "from sklearn.preprocessing import StandardScaler\n",
    "rand_state = np.random.randint(0, 100)\n",
    "X_train, X_test, y_train, y_test = train_test_split(\n",
    "    X, y, test_size=0.2, random_state=rand_state)\n",
    "    \n",
    "# Fit a per-column scaler\n",
    "X_scaler = StandardScaler().fit(X_train)\n",
    "# Apply the scaler to X\n",
    "X_train = X_scaler.transform(X_train)\n",
    "X_test = X_scaler.transform(X_test)\n",
    "\n",
    "print('Using:',orient,'orientations',pix_per_cell,\n",
    "    'pixels per cell and', cell_per_block,'cells per block')\n",
    "print('Feature vector length:', len(X_train[0]))\n",
    "# Use a linear SVC "
   ]
  },
  {
   "cell_type": "markdown",
   "metadata": {},
   "source": [
    "#### Training and Testing "
   ]
  },
  {
   "cell_type": "code",
   "execution_count": 15,
   "metadata": {},
   "outputs": [
    {
     "name": "stdout",
     "output_type": "stream",
     "text": [
      "training started\n",
      "Test Accuracy of SVC =  0.9955\n",
      "Wall time: 7.39 s\n"
     ]
    },
    {
     "name": "stderr",
     "output_type": "stream",
     "text": [
      "c:\\Users\\lenovo\\anaconda3\\lib\\site-packages\\sklearn\\svm\\_base.py:985: ConvergenceWarning: Liblinear failed to converge, increase the number of iterations.\n",
      "  warnings.warn(\"Liblinear failed to converge, increase \"\n"
     ]
    }
   ],
   "source": [
    "%%time\n",
    "from sklearn.svm import LinearSVC\n",
    "\n",
    "print('training started') \n",
    "clf = LinearSVC()\n",
    "LinearSVC( \n",
    "            C=1000.0  \n",
    "    #loss='hinge'\n",
    "          #, gamma='auto'\n",
    "          #, kernel='linear'\n",
    "         )\n",
    "\n",
    "clf.fit(X_train, y_train)\n",
    "print('Test Accuracy of SVC = ', round(clf.score(X_test, y_test), 4))\n",
    "\n"
   ]
  },
  {
   "cell_type": "markdown",
   "metadata": {},
   "source": [
    "#### additional functions"
   ]
  },
  {
   "cell_type": "code",
   "execution_count": 16,
   "metadata": {},
   "outputs": [
    {
     "name": "stderr",
     "output_type": "stream",
     "text": [
      "C:\\Users\\lenovo\\AppData\\Local\\Temp/ipykernel_1672/2202427619.py:2: DeprecationWarning: `np.float` is a deprecated alias for the builtin `float`. To silence this warning, use `float` by itself. Doing this will not modify any behavior and is safe. If you specifically wanted the numpy scalar type, use `np.float64` here.\n",
      "Deprecated in NumPy 1.20; for more details and guidance: https://numpy.org/devdocs/release/1.20.0-notes.html#deprecations\n",
      "  heat = np.zeros_like(image[:,:,0]).astype(np.float)\n"
     ]
    }
   ],
   "source": [
    "from scipy.ndimage.measurements import label\n",
    "heat = np.zeros_like(image[:,:,0]).astype(np.float)\n",
    "\n",
    "def add_heat(heatmap, bbox_list):\n",
    "    # Iterate through list of bboxes\n",
    "    for box in bbox_list:\n",
    "        # Add += 1 for all pixels inside each bbox\n",
    "        # Assuming each \"box\" takes the form ((x1, y1), (x2, y2))\n",
    "        heatmap[box[0][1]:box[1][1], box[0][0]:box[1][0]] += 1\n",
    "\n",
    "    # Return updated heatmap\n",
    "    return heatmap\n",
    "    \n",
    "def apply_threshold(heatmap, threshold):\n",
    "    # Zero out pixels below the threshold\n",
    "    heatmap[heatmap <= threshold] = 0\n",
    "    # Return thresholded map\n",
    "    return heatmap\n",
    "\n",
    "def draw_labeled_bboxes(img, labels):\n",
    "    # Iterate through all detected cars\n",
    "    coord=[]\n",
    "    for car_number in range(1, labels[1]+1):\n",
    "        # Find pixels with each car_number label value\n",
    "        nonzero = (labels[0] == car_number).nonzero()\n",
    "        # Identify x and y values of those pixels\n",
    "        nonzeroy = np.array(nonzero[0])\n",
    "        nonzerox = np.array(nonzero[1])\n",
    "        # Define a bounding box based on min/max x and y\n",
    "        bbox = ((np.min(nonzerox), np.min(nonzeroy)), (np.max(nonzerox), np.max(nonzeroy)))\n",
    "        point=(np.min(nonzerox), np.min(nonzeroy)-20)\n",
    "        text= 'Car '+ str(car_number)\n",
    "#         cv2.putText(img,text,point, cv2.FONT_HERSHEY_SIMPLEX, 0.5,(0,255,0),2,cv2.LINE_AA)\n",
    "        # Draw the box on the image\n",
    "        aspect_ratio= float(bbox[1][0]-bbox[0][0])/(bbox[1][1]-bbox[0][1])\n",
    "        if(aspect_ratio>=0.8 ):\n",
    "            \n",
    "            coord.append((bbox[0], bbox[1]))\n",
    "    # Return the image\n",
    "    return img, coord\n",
    "\n",
    "def draw_objects(coords, draw_img):\n",
    "    out_image = np.zeros((720,1280,3), dtype=np.uint8)\n",
    "    index=1\n",
    "    out_image[0:720,0:1280,:] = cv2.resize(draw_img,(1280,720)) \n",
    "    offset_left=30\n",
    "    offset_start=30\n",
    "    mid_gap=40\n",
    "    \n",
    "    for coord in coords:\n",
    "        if(index<4):\n",
    "            x_start= coord[0][0]\n",
    "            y_start= coord[0][1]\n",
    "            x_end= coord[1][0]\n",
    "            y_end= coord[1][1]\n",
    "            if x_end-x_start>70 and y_end-y_start>50:\n",
    "                aspect_ratio= float(x_end-x_start)/(y_end-y_start)\n",
    "\n",
    "                detected_image = np.zeros((150,220,3), dtype=np.uint8)\n",
    "                if(aspect_ratio>=0.8 and aspect_ratio<=4):\n",
    "                    detected_image= cv2.resize(draw_img[y_start+5:max(y_end-5,y_start+80),x_start+5:max(x_end-5,x_start+115)],(220,150))\n",
    "                    cv2.rectangle(out_image,(offset_left-2,offset_start-2),(offset_left+222,offset_start+152 ), (255,255,255), 3)\n",
    "                else:\n",
    "                    cv2.putText(detected_image,'Bad Quality ',(50,80), cv2.FONT_HERSHEY_SIMPLEX, 0.7,(255,0,0),2,cv2.LINE_AA)\n",
    "                    cv2.rectangle(out_image,(offset_left-2,offset_start-2),(offset_left+222,offset_start+152 ), (255,0,0), 3)\n",
    "                cv2.rectangle(out_image, coord[0], coord[1], (226,203,255), 6)\n",
    "                out_image[offset_start:offset_start+150,offset_left:offset_left+220,:] = cv2.resize(detected_image,(220,150))\n",
    "                cv2.putText(out_image,'Car '+str(index)+' detected',(offset_left,offset_start-10), cv2.FONT_HERSHEY_SIMPLEX, 0.6,(255,255,255),2,cv2.LINE_AA)\n",
    "                offset_start+=150+mid_gap\n",
    "        index+=1\n",
    "    return out_image"
   ]
  },
  {
   "cell_type": "markdown",
   "metadata": {},
   "source": [
    "#### Analyzing test images"
   ]
  },
  {
   "cell_type": "code",
   "execution_count": 65,
   "metadata": {},
   "outputs": [
    {
     "data": {
      "image/png": "[encoded data removed]",
      "text/plain": [
       "<Figure size 1440x1440 with 16 Axes>"
      ]
     },
     "metadata": {
      "needs_background": "light"
     },
     "output_type": "display_data"
    }
   ],
   "source": [
    "\n",
    "image=None\n",
    "\n",
    "images= glob.glob('./test_images/*.jpg')\n",
    "f,axes= plt.subplots(4,4, figsize=(20,20))\n",
    "i=0\n",
    "# for i in range(0,6):\n",
    "for img in images:\n",
    "    \n",
    "    image = cv2.imread(img)\n",
    "\n",
    "    draw_image = np.copy(image)\n",
    "    windows = slide_window(draw_image, x_start_stop=[None, None], y_start_stop=[None, None], \n",
    "                        xy_window=(72, 72), xy_overlap=(0.9,0.9), offset=50)\n",
    "    \n",
    "#     print(len(windows))\n",
    "    hot_windows = search_windows(image, windows, clf, X_scaler, color_space=color_space, \n",
    "                            spatial_size=spatial_size, hist_bins=hist_bins, \n",
    "                            orient=orient, pix_per_cell=pix_per_cell, \n",
    "                            cell_per_block=cell_per_block, \n",
    "                            hog_channel=hog_channel, spatial_feat=spatial_feat, \n",
    "                            hist_feat=hist_feat, hog_feat=hog_feat)                       \n",
    "\n",
    "    window_img = draw_boxes(draw_image, hot_windows, color=(0, 0, 255), thick=6)                    \n",
    "    window_img= cv2.cvtColor(window_img, cv2.COLOR_BGR2RGB)\n",
    "    axes[i,0].imshow(window_img)\n",
    "    heat = np.zeros_like(image[:,:,0]).astype(np.float)\n",
    "    heat = add_heat(heat,hot_windows)\n",
    "    \n",
    "    # Apply threshold to help remove false positives\n",
    "    heat = apply_threshold(heat,1) \n",
    "    heatmap = np.clip(heat, 0, 255)\n",
    "    axes[i,1].imshow(heatmap)\n",
    "    # Find final boxes from heatmap using label function\n",
    "    labels = label(heatmap)\n",
    "    draw_img,coord = draw_labeled_bboxes(np.copy(image), labels)\n",
    "    axes[i,2].imshow(labels[0], cmap='gray')\n",
    "    draw_img= draw_objects(coord, cv2.cvtColor(draw_img,cv2.COLOR_BGR2RGB))\n",
    "    axes[i,3].imshow(draw_img)\n",
    "    i+=1\n",
    "# print(windows)"
   ]
  },
  {
   "cell_type": "code",
   "execution_count": 38,
   "metadata": {},
   "outputs": [],
   "source": [
    "prev_heat=[]\n",
    "\n",
    "def avg_heat(heat, span):\n",
    "    global prev_heat\n",
    "    \n",
    "    if(len(prev_heat)>span):\n",
    "        prev_heat.pop(0)\n",
    "    prev_heat.append(heat)\n",
    "    return np.mean(prev_heat, axis=0)\n",
    "\n",
    "prev_windows_left=[]\n",
    "prev_windows_right=[]\n",
    "def averaging(curr_windows, span, window_side):\n",
    "    \n",
    "    global prev_windows_left\n",
    "    global prev_windows_right\n",
    "    result=[]\n",
    "    if window_side=='R':\n",
    "        no_of_window_slots=len(prev_windows_right)\n",
    "        if(no_of_window_slots>span):\n",
    "            prev_windows_right.pop(0)\n",
    "        prev_windows_right.append(curr_windows)\n",
    "        \n",
    "        for windows in prev_windows_right:\n",
    "\n",
    "            for window in windows:\n",
    "    #             print(windows)\n",
    "                result.append(window)\n",
    "    else:   \n",
    "        no_of_window_slots=len(prev_windows_left)\n",
    "        if(no_of_window_slots>span):\n",
    "            prev_windows_left.pop(0)\n",
    "        prev_windows_left.append(curr_windows)\n",
    "        \n",
    "        for windows in prev_windows_left:\n",
    "\n",
    "            for window in windows:\n",
    "    #             print(windows)\n",
    "                result.append(window)\n",
    "        \n",
    "    return result,no_of_window_slots\n",
    "    \n",
    "  "
   ]
  },
  {
   "cell_type": "markdown",
   "metadata": {},
   "source": [
    "#### PipeLine"
   ]
  },
  {
   "cell_type": "code",
   "execution_count": 52,
   "metadata": {
    "scrolled": false
   },
   "outputs": [],
   "source": [
    "prev_windows_left=[]\n",
    "prev_windows_right=[]\n",
    "prev_heat=[]\n",
    "windows_final = slide_window(image, x_start_stop=[600, None], y_start_stop=[None, None], \n",
    "                       xy_window=(72, 72), xy_overlap=(0.9,0.9), offset=40)\n",
    "\n",
    "# print('=========')\n",
    "last_frame=None\n",
    "frame_no=0\n",
    "last_left=None\n",
    "last_right=None\n",
    "def Object_pipeline(img):\n",
    "    draw_image = np.copy(img)\n",
    "#     draw_image= cv2.cvtColor(draw_image, cv2.COLOR_BGR2RGB)\n",
    "    global windows_final\n",
    "    global clf\n",
    "    global X_scaler\n",
    "    global color_space\n",
    "    global spatial_size\n",
    "    global hist_bins\n",
    "    global orient\n",
    "    global pix_per_cell\n",
    "    global cell_per_block\n",
    "    global hog_channel\n",
    "    global spatial_feat \n",
    "    global hist_feat \n",
    "    global hog_feat \n",
    "    global frame_no\n",
    "    global last_frame\n",
    "    global last_left\n",
    "    global last_right\n",
    "    global prev_heat\n",
    "   \n",
    "    result=None\n",
    "#     if frame_no%2!=0 and last_frame is not None:\n",
    "#         result= last_frame\n",
    "# #         _, _= averaging(last_left, 2,'L')\n",
    "# #         _, _= averaging(last_right, 10,'R')\n",
    "#     else:\n",
    "\n",
    "    hot_windows = search_windows(img, windows_final, clf, X_scaler, color_space=color_space, \n",
    "                            spatial_size=spatial_size, hist_bins=hist_bins, \n",
    "                            orient=orient, pix_per_cell=pix_per_cell, \n",
    "                            cell_per_block=cell_per_block, \n",
    "                            hog_channel=hog_channel, spatial_feat=spatial_feat, \n",
    "                            hist_feat=hist_feat, hog_feat=hog_feat)                       \n",
    "#         window_img = draw_boxes(draw_image, hot_windows, color=(0, 255, 0), thick=6) \n",
    "\n",
    "#     #     average_windows= averaging(hot_windows)\n",
    "#         left_windows=[]\n",
    "#         right_windows=[]\n",
    "#         for windows in hot_windows:\n",
    "#             if(windows[1][0]<img.shape[1]//2 +230): # left windows\n",
    "#                 left_windows.append(windows)\n",
    "#             else: # right windows\n",
    "#                 right_windows.append(windows)\n",
    "#         last_left= left_windows\n",
    "#         last_right= right_windows\n",
    "#         left_windows, threshold_left= averaging(left_windows, 2,'L')\n",
    "# #         print(threshold_left)\n",
    "    \n",
    "#         right_windows, threshold_right= averaging(right_windows, 15, 'R')\n",
    "    \n",
    "#         heat_left = np.zeros_like(img[:,:,0]).astype(np.float)\n",
    "#         heat_left = add_heat(heat_left,left_windows)\n",
    "# #         print(threshold_left, len(left_windows))\n",
    "#         heat_left = apply_threshold(heat_left,3)\n",
    "    \n",
    "#         heat_right = np.zeros_like(img[:,:,0]).astype(np.float)\n",
    "#         heat_right = add_heat(heat_right,right_windows)\n",
    "#         heat_right = apply_threshold(heat_right,int(len(right_windows)))\n",
    "    \n",
    "#         heat= np.zeros_like(img[:,:,0]).astype(np.float)\n",
    "#         heat= np.dstack((heat_left,heat_right,heat))[:,:,1]\n",
    "# #         plt.imshow(heat)\n",
    "    heat = np.zeros_like(img[:,:,0]).astype(np.float)\n",
    "    heat = add_heat(heat,hot_windows)\n",
    "#         print('curr',np.max(heat))\n",
    "    heat = avg_heat(heat, 20)\n",
    "#         print('Avg',np.max(heat))\n",
    "    heat = apply_threshold(heat,max(np.max(heat)//2-15 ,2))\n",
    "#         print('curr',np.max(heat))\n",
    "    heatmap = np.clip(heat, 0, 255)\n",
    "    labels = label(heatmap)\n",
    "    draw_img, coord = draw_labeled_bboxes(np.copy(img), labels)\n",
    "    \n",
    "    draw_img= draw_objects(coord, draw_img)\n",
    "    last_frame=draw_img\n",
    "    result= draw_img\n",
    "    frame_no+=1\n",
    "    #     print(windows_final)\n",
    "    return result\n",
    "# image = cv2.imread('./frames/image_75.jpg')\n",
    "# img= Object_pipeline(cv2.cvtColor(image,cv2.COLOR_BGR2RGB))\n",
    "# plt.imshow(img)\n",
    "# print(len(windows))"
   ]
  },
  {
   "cell_type": "code",
   "execution_count": 40,
   "metadata": {},
   "outputs": [],
   "source": [
    "#code to extract frames from video\n",
    "\n",
    "# import cv2\n",
    "# import math\n",
    "\n",
    "# videoFile = \"project_video_output8.mp4\"\n",
    "# imagesFolder = \"frames\"\n",
    "# cap = cv2.VideoCapture(videoFile)\n",
    "# frameRate = cap.get(3) #frame rate\n",
    "# while(cap.isOpened()):\n",
    "#     frameId = cap.get(1) #current frame number\n",
    "#     ret, frame = cap.read()\n",
    "#     if (ret != True):\n",
    "#         break\n",
    "# #     if (frameId % math.floor(frameRate) == 0):\n",
    "#     filename = imagesFolder + \"/image_\" +  str(int(frameId)) + \".jpg\"\n",
    "#     cv2.imwrite(filename, frame)\n",
    "# cap.release()\n",
    "# print(\"Done!\") "
   ]
  },
  {
   "cell_type": "markdown",
   "metadata": {},
   "source": [
    "#### Video Processing"
   ]
  },
  {
   "cell_type": "code",
   "execution_count": 64,
   "metadata": {
    "scrolled": true
   },
   "outputs": [
    {
     "name": "stderr",
     "output_type": "stream",
     "text": [
      "t:   8%|▊         | 104/1260 [1:03:03<27:13,  1.41s/it, now=None]"
     ]
    },
    {
     "name": "stdout",
     "output_type": "stream",
     "text": [
      "Moviepy - Building video project_video_output_s2_o0.9_th1_prop0.2.mp4.\n",
      "Moviepy - Writing video project_video_output_s2_o0.9_th1_prop0.2.mp4\n",
      "\n"
     ]
    },
    {
     "name": "stderr",
     "output_type": "stream",
     "text": [
      "t:   8%|▊         | 104/1260 [1:17:34<27:13,  1.41s/it, now=None]"
     ]
    },
    {
     "name": "stdout",
     "output_type": "stream",
     "text": [
      "Moviepy - Done !\n",
      "Moviepy - video ready project_video_output_s2_o0.9_th1_prop0.2.mp4\n",
      "Wall time: 14min 31s\n"
     ]
    }
   ],
   "source": [
    "prev_windows_left=[]\n",
    "prev_windows_right=[]\n",
    "prev_heat=[]\n",
    "frame_no=0\n",
    "last_frame=None\n",
    "import moviepy\n",
    "from moviepy.editor import VideoFileClip\n",
    "\n",
    "video_output1 = 'project_video_output_s2_o0.9_th1_prop0.2.mp4'\n",
    "video_input1 = VideoFileClip('project_video.mp4').subclip(30,45)\n",
    "processed_video = video_input1.fl_image(Object_pipeline)\n",
    "%time processed_video.write_videofile(video_output1, audio=False)\n",
    "video_input1.reader.close()\n",
    "video_input1.audio.reader.close_proc()"
   ]
  },
  {
   "cell_type": "code",
   "execution_count": null,
   "metadata": {},
   "outputs": [],
   "source": []
  }
 ],
 "metadata": {
  "interpreter": {
   "hash": "a71a9e4fb054fff428071484f7faa898cb9ecb31a518fe88e3463da9af879578"
  },
  "kernelspec": {
   "display_name": "Python 3.9.7 ('base')",
   "language": "python",
   "name": "python3"
  },
  "language_info": {
   "codemirror_mode": {
    "name": "ipython",
    "version": 3
   },
   "file_extension": ".py",
   "mimetype": "text/x-python",
   "name": "python",
   "nbconvert_exporter": "python",
   "pygments_lexer": "ipython3",
   "version": "3.9.7"
  },
  "widgets": {
   "state": {},
   "version": "1.1.2"
  }
 },
 "nbformat": 4,
 "nbformat_minor": 2
}
